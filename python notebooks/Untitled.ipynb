{
 "cells": [
  {
   "cell_type": "code",
   "execution_count": 1,
   "id": "8cbf3769-5335-4f00-8ead-ff9d5e5b48eb",
   "metadata": {},
   "outputs": [],
   "source": [
    "from web3 import Web3\n",
    "import json"
   ]
  },
  {
   "cell_type": "markdown",
   "id": "4f941b54-a215-43f0-9490-0c3b6ca1b1d9",
   "metadata": {},
   "source": [
    "# IPCProvider:"
   ]
  },
  {
   "cell_type": "code",
   "execution_count": 2,
   "id": "6ba4846a-0899-459e-8759-9386553734d3",
   "metadata": {},
   "outputs": [],
   "source": [
    "w3 = Web3(Web3.HTTPProvider('http://127.0.0.1:8545'))"
   ]
  },
  {
   "cell_type": "code",
   "execution_count": 3,
   "id": "18b4fe20-d939-4e1e-b48e-864619a0594a",
   "metadata": {},
   "outputs": [
    {
     "data": {
      "text/plain": [
       "True"
      ]
     },
     "execution_count": 3,
     "metadata": {},
     "output_type": "execute_result"
    }
   ],
   "source": [
    "w3.isConnected()"
   ]
  },
  {
   "cell_type": "code",
   "execution_count": 4,
   "id": "f4b156d5-c318-42e9-a150-efe8dbe0440a",
   "metadata": {},
   "outputs": [
    {
     "data": {
      "text/plain": [
       "246"
      ]
     },
     "execution_count": 4,
     "metadata": {},
     "output_type": "execute_result"
    }
   ],
   "source": [
    "w3.eth.block_number"
   ]
  },
  {
   "cell_type": "code",
   "execution_count": 5,
   "id": "b1f5c303-e486-496c-92ef-3c586f4d700b",
   "metadata": {},
   "outputs": [
    {
     "data": {
      "text/plain": [
       "AttributeDict({'difficulty': 147381,\n",
       " 'extraData': HexBytes('0xd983010a08846765746888676f312e31362e348664617277696e'),\n",
       " 'gasLimit': 10000000,\n",
       " 'gasUsed': 0,\n",
       " 'hash': HexBytes('0x9dd078c91367ceabb713954dc42c26aeaf022620910835fb4b2b589bdb742ed8'),\n",
       " 'logsBloom': HexBytes('0x00000000000000000000000000000000000000000000000000000000000000000000000000000000000000000000000000000000000000000000000000000000000000000000000000000000000000000000000000000000000000000000000000000000000000000000000000000000000000000000000000000000000000000000000000000000000000000000000000000000000000000000000000000000000000000000000000000000000000000000000000000000000000000000000000000000000000000000000000000000000000000000000000000000000000000000000000000000000000000000000000000000000000000000000000000000'),\n",
       " 'miner': '0x546F99F244b7B58B855330AE0E2BC1b30b41302F',\n",
       " 'mixHash': HexBytes('0x06a7dfd5636c65cfa58cc11e0a8b753ef0a990fd6a6a69a71687d9495fc5137e'),\n",
       " 'nonce': HexBytes('0x115228623c8697fe'),\n",
       " 'number': 246,\n",
       " 'parentHash': HexBytes('0x7609b9d45158bb81b1779d6738e21007cfcd89e973abb5f885a43685fb97cbb2'),\n",
       " 'receiptsRoot': HexBytes('0x56e81f171bcc55a6ff8345e692c0f86e5b48e01b996cadc001622fb5e363b421'),\n",
       " 'sha3Uncles': HexBytes('0x1dcc4de8dec75d7aab85b567b6ccd41ad312451b948a7413f0a142fd40d49347'),\n",
       " 'size': 538,\n",
       " 'stateRoot': HexBytes('0xa172b810a75549114a2e6eb7f5a9e053914ee5688b2b0eb245b5b49b62d69608'),\n",
       " 'timestamp': 1636486947,\n",
       " 'totalDifficulty': 34214603,\n",
       " 'transactions': [],\n",
       " 'transactionsRoot': HexBytes('0x56e81f171bcc55a6ff8345e692c0f86e5b48e01b996cadc001622fb5e363b421'),\n",
       " 'uncles': []})"
      ]
     },
     "execution_count": 5,
     "metadata": {},
     "output_type": "execute_result"
    }
   ],
   "source": [
    "w3.eth.get_block('latest')"
   ]
  },
  {
   "cell_type": "code",
   "execution_count": 6,
   "id": "5db2b635-32b8-4d17-ae6a-9995edeec30d",
   "metadata": {},
   "outputs": [],
   "source": [
    "#%PYTHONWARNINGS=default"
   ]
  },
  {
   "cell_type": "code",
   "execution_count": 7,
   "id": "a0dad019-4032-4374-b343-10201fc19915",
   "metadata": {},
   "outputs": [],
   "source": [
    "#w3.eth.get_block_transaction_count()"
   ]
  },
  {
   "cell_type": "markdown",
   "id": "6a5cc05f-a4f7-44ef-90f7-1b51d254bd9f",
   "metadata": {},
   "source": [
    "# Load EthDKGInitializeFacet contract"
   ]
  },
  {
   "cell_type": "code",
   "execution_count": 8,
   "id": "4e91197f-1e3a-442c-af61-c881093ae90f",
   "metadata": {},
   "outputs": [],
   "source": [
    "ethdkg_diamond = \"0x257501CBfA198a22B71637526a446059E57D93dD\""
   ]
  },
  {
   "cell_type": "code",
   "execution_count": 9,
   "id": "fbb7b6ff-e168-4cfc-b78b-1ad4e71cfe15",
   "metadata": {},
   "outputs": [
    {
     "data": {
      "text/plain": [
       "10"
      ]
     },
     "execution_count": 9,
     "metadata": {},
     "output_type": "execute_result"
    }
   ],
   "source": [
    "abi = '''\n",
    "[\n",
    "                {\n",
    "                    \"inputs\":\n",
    "                    [],\n",
    "                    \"name\": \"getEthDKGMadHeight\",\n",
    "                    \"outputs\":\n",
    "                    [\n",
    "                        {\n",
    "                            \"internalType\": \"uint32\",\n",
    "                            \"name\": \"\",\n",
    "                            \"type\": \"uint32\"\n",
    "                        }\n",
    "                    ],\n",
    "                    \"stateMutability\": \"view\",\n",
    "                    \"type\": \"function\"\n",
    "                },\n",
    "                {\n",
    "                    \"inputs\":\n",
    "                    [\n",
    "                        {\n",
    "                            \"internalType\": \"address\",\n",
    "                            \"name\": \"who\",\n",
    "                            \"type\": \"address\"\n",
    "                        }\n",
    "                    ],\n",
    "                    \"name\": \"grantOperator\",\n",
    "                    \"outputs\":\n",
    "                    [],\n",
    "                    \"stateMutability\": \"nonpayable\",\n",
    "                    \"type\": \"function\"\n",
    "                },\n",
    "                {\n",
    "                    \"inputs\":\n",
    "                    [\n",
    "                        {\n",
    "                            \"internalType\": \"address\",\n",
    "                            \"name\": \"who\",\n",
    "                            \"type\": \"address\"\n",
    "                        }\n",
    "                    ],\n",
    "                    \"name\": \"grantOwner\",\n",
    "                    \"outputs\":\n",
    "                    [],\n",
    "                    \"stateMutability\": \"nonpayable\",\n",
    "                    \"type\": \"function\"\n",
    "                },\n",
    "                {\n",
    "                    \"inputs\":\n",
    "                    [\n",
    "                        {\n",
    "                            \"internalType\": \"contract Registry\",\n",
    "                            \"name\": \"registry\",\n",
    "                            \"type\": \"address\"\n",
    "                        }\n",
    "                    ],\n",
    "                    \"name\": \"initializeEthDKG\",\n",
    "                    \"outputs\":\n",
    "                    [],\n",
    "                    \"stateMutability\": \"nonpayable\",\n",
    "                    \"type\": \"function\"\n",
    "                },\n",
    "                {\n",
    "                    \"inputs\":\n",
    "                    [\n",
    "                        {\n",
    "                            \"internalType\": \"uint32\",\n",
    "                            \"name\": \"_madHeight\",\n",
    "                            \"type\": \"uint32\"\n",
    "                        }\n",
    "                    ],\n",
    "                    \"name\": \"initializeEthDKGFromArbitraryMadHeight\",\n",
    "                    \"outputs\":\n",
    "                    [\n",
    "                        {\n",
    "                            \"internalType\": \"bool\",\n",
    "                            \"name\": \"\",\n",
    "                            \"type\": \"bool\"\n",
    "                        }\n",
    "                    ],\n",
    "                    \"stateMutability\": \"nonpayable\",\n",
    "                    \"type\": \"function\"\n",
    "                },\n",
    "                {\n",
    "                    \"inputs\":\n",
    "                    [],\n",
    "                    \"name\": \"initializeState\",\n",
    "                    \"outputs\":\n",
    "                    [],\n",
    "                    \"stateMutability\": \"nonpayable\",\n",
    "                    \"type\": \"function\"\n",
    "                },\n",
    "                {\n",
    "                    \"inputs\":\n",
    "                    [\n",
    "                        {\n",
    "                            \"internalType\": \"address\",\n",
    "                            \"name\": \"who\",\n",
    "                            \"type\": \"address\"\n",
    "                        }\n",
    "                    ],\n",
    "                    \"name\": \"revokeOperator\",\n",
    "                    \"outputs\":\n",
    "                    [],\n",
    "                    \"stateMutability\": \"nonpayable\",\n",
    "                    \"type\": \"function\"\n",
    "                },\n",
    "                {\n",
    "                    \"inputs\":\n",
    "                    [\n",
    "                        {\n",
    "                            \"internalType\": \"address\",\n",
    "                            \"name\": \"governance_\",\n",
    "                            \"type\": \"address\"\n",
    "                        }\n",
    "                    ],\n",
    "                    \"name\": \"setGovernance\",\n",
    "                    \"outputs\":\n",
    "                    [],\n",
    "                    \"stateMutability\": \"nonpayable\",\n",
    "                    \"type\": \"function\"\n",
    "                },\n",
    "                {\n",
    "                    \"inputs\":\n",
    "                    [],\n",
    "                    \"name\": \"takeOwnership\",\n",
    "                    \"outputs\":\n",
    "                    [],\n",
    "                    \"stateMutability\": \"nonpayable\",\n",
    "                    \"type\": \"function\"\n",
    "                },\n",
    "                {\n",
    "                    \"inputs\":\n",
    "                    [\n",
    "                        {\n",
    "                            \"internalType\": \"uint256\",\n",
    "                            \"name\": \"phaseLength\",\n",
    "                            \"type\": \"uint256\"\n",
    "                        }\n",
    "                    ],\n",
    "                    \"name\": \"updatePhaseLength\",\n",
    "                    \"outputs\":\n",
    "                    [],\n",
    "                    \"stateMutability\": \"nonpayable\",\n",
    "                    \"type\": \"function\"\n",
    "                }\n",
    "            ]\n",
    "'''\n",
    "\n",
    "abi_json = json.loads(abi)\n",
    "len(abi_json)"
   ]
  },
  {
   "cell_type": "code",
   "execution_count": 10,
   "id": "a35c784f-6b0d-4a84-a5ce-2da207435761",
   "metadata": {},
   "outputs": [],
   "source": [
    "contract = w3.eth.contract(address=ethdkg_diamond, abi=abi)"
   ]
  },
  {
   "cell_type": "code",
   "execution_count": 11,
   "id": "03746327-75e1-4c98-a7e3-10f5d3e6e0e7",
   "metadata": {},
   "outputs": [],
   "source": [
    "from web3.middleware import construct_sign_and_send_raw_middleware"
   ]
  },
  {
   "cell_type": "code",
   "execution_count": 12,
   "id": "d18f5ab7-7c1a-4d20-9da4-6eab7b91d14f",
   "metadata": {},
   "outputs": [],
   "source": [
    "from eth_account import Account"
   ]
  },
  {
   "cell_type": "code",
   "execution_count": 13,
   "id": "0bd9c320-5d6d-4890-a41d-2b165ef3e44f",
   "metadata": {},
   "outputs": [],
   "source": [
    "acct = Account.from_key('6aea45ee1273170fb525da34015e4f20ba39fe792f486ba74020bcacc9badfc1')"
   ]
  },
  {
   "cell_type": "code",
   "execution_count": 14,
   "id": "9e90ab2d-31ea-4ec2-88a6-97636fd0b55e",
   "metadata": {},
   "outputs": [],
   "source": [
    "w3.middleware_onion.add(construct_sign_and_send_raw_middleware(acct))"
   ]
  },
  {
   "cell_type": "code",
   "execution_count": 15,
   "id": "1d65a1f2-422f-4945-9cd0-508a01ef573f",
   "metadata": {},
   "outputs": [
    {
     "data": {
      "text/plain": [
       "'0x546F99F244b7B58B855330AE0E2BC1b30b41302F'"
      ]
     },
     "execution_count": 15,
     "metadata": {},
     "output_type": "execute_result"
    }
   ],
   "source": [
    "acct.address"
   ]
  },
  {
   "cell_type": "code",
   "execution_count": 16,
   "id": "fdf99840-b6ca-49fb-9f8b-d907b26d96e1",
   "metadata": {},
   "outputs": [],
   "source": [
    "w3.eth.default_account = acct.address"
   ]
  },
  {
   "cell_type": "code",
   "execution_count": null,
   "id": "411ce692-b148-4499-8ae7-0a736fd443ec",
   "metadata": {},
   "outputs": [],
   "source": []
  },
  {
   "cell_type": "code",
   "execution_count": 17,
   "id": "11e06196-d431-4101-9da0-c553c9bd5937",
   "metadata": {},
   "outputs": [
    {
     "data": {
      "text/plain": [
       "0"
      ]
     },
     "execution_count": 17,
     "metadata": {},
     "output_type": "execute_result"
    }
   ],
   "source": [
    "x = contract.functions.getEthDKGMadHeight().call()\n",
    "x"
   ]
  },
  {
   "cell_type": "code",
   "execution_count": null,
   "id": "ae06d794-562a-46cc-8e86-afcdb2c07aac",
   "metadata": {},
   "outputs": [],
   "source": []
  },
  {
   "cell_type": "code",
   "execution_count": 18,
   "id": "85fbcb80-de84-4528-b7f4-9d02cf5e6984",
   "metadata": {},
   "outputs": [
    {
     "data": {
      "text/plain": [
       "HexBytes('0x6ed2dcb3d36ed582c7d627e37a769e33c3f297c1aa439f580f7f9d41c880c55b')"
      ]
     },
     "execution_count": 18,
     "metadata": {},
     "output_type": "execute_result"
    }
   ],
   "source": [
    "tx_hash = contract.functions.initializeEthDKGFromArbitraryMadHeight(25).transact()\n",
    "tx_hash"
   ]
  },
  {
   "cell_type": "code",
   "execution_count": 19,
   "id": "84723c23-56cc-42c8-a9e2-2909701d22d3",
   "metadata": {},
   "outputs": [
    {
     "data": {
      "text/plain": [
       "AttributeDict({'blockHash': HexBytes('0xf652afd13e29f96035da3f53f73aefc3670de2cbd748db09c8346181354f0818'),\n",
       " 'blockNumber': 253,\n",
       " 'contractAddress': None,\n",
       " 'cumulativeGasUsed': 56538,\n",
       " 'effectiveGasPrice': 1,\n",
       " 'from': '0x546F99F244b7B58B855330AE0E2BC1b30b41302F',\n",
       " 'gasUsed': 56538,\n",
       " 'logs': [AttributeDict({'address': '0x257501CBfA198a22B71637526a446059E57D93dD',\n",
       "   'topics': [HexBytes('0x1c85ff1efe0a905f8feca811e617102cb7ec896aded693eb96366c8ef22bb09f')],\n",
       "   'data': '0x00000000000000000000000000000000000000000000000000000000000000000000000000000000000000000000000000000000000000000000000000000000000000000000000000000000000000000000000000000000000000000000000000000000000000000000000000000000000000000000000000000000000000190000000000000000000000000000000000000000000000000000000000000000000000000000000000000000000000000000000000000000000000000000000000000000000000000000000000000000000000000000000000000000000000000000000000000000000000000000000000000000000000000000000000000000',\n",
       "   'blockNumber': 253,\n",
       "   'transactionHash': HexBytes('0x6ed2dcb3d36ed582c7d627e37a769e33c3f297c1aa439f580f7f9d41c880c55b'),\n",
       "   'transactionIndex': 0,\n",
       "   'blockHash': HexBytes('0xf652afd13e29f96035da3f53f73aefc3670de2cbd748db09c8346181354f0818'),\n",
       "   'logIndex': 0,\n",
       "   'removed': False})],\n",
       " 'logsBloom': HexBytes('0x00000000000000000400000000000000000000000000000000000000000000000000000000000000200000000000000000000000000000000000000000000000000000000000000000000000000000000000000000000000000000000000000000000000000000000000000000000000000000000000000000000000000000000000000000000000000000000000000000000000000000000000000000002000000000000000000000000000000000000000000000000000000000000000000008000000000000000000000000000000000000000000000000000000000000000000000000000000000000000000000000000000000000040800000000000000'),\n",
       " 'status': 1,\n",
       " 'to': '0x257501CBfA198a22B71637526a446059E57D93dD',\n",
       " 'transactionHash': HexBytes('0x6ed2dcb3d36ed582c7d627e37a769e33c3f297c1aa439f580f7f9d41c880c55b'),\n",
       " 'transactionIndex': 0,\n",
       " 'type': '0x0'})"
      ]
     },
     "execution_count": 19,
     "metadata": {},
     "output_type": "execute_result"
    }
   ],
   "source": [
    "tx_receipt = w3.eth.wait_for_transaction_receipt(tx_hash)\n",
    "tx_receipt"
   ]
  },
  {
   "cell_type": "code",
   "execution_count": 54,
   "id": "35a32c89-1042-46bc-a052-83fc72b127a9",
   "metadata": {},
   "outputs": [
    {
     "data": {
      "text/plain": [
       "25"
      ]
     },
     "execution_count": 54,
     "metadata": {},
     "output_type": "execute_result"
    }
   ],
   "source": [
    "x = contract.functions.getEthDKGMadHeight().call()\n",
    "x"
   ]
  },
  {
   "cell_type": "code",
   "execution_count": null,
   "id": "c363f2b5-26d3-4b7d-bf60-47a2f83e3708",
   "metadata": {},
   "outputs": [],
   "source": []
  },
  {
   "cell_type": "code",
   "execution_count": 20,
   "id": "2b6be999-1c11-418a-b1c5-b70e9d4bb05c",
   "metadata": {},
   "outputs": [
    {
     "data": {
      "text/plain": [
       "HexBytes('0xdc49f5d30ac3a58d6a4c7ef8d2111832d45171501d6eb30c191afda962a9bef4')"
      ]
     },
     "execution_count": 20,
     "metadata": {},
     "output_type": "execute_result"
    }
   ],
   "source": [
    "tx_hash = contract.functions.initializeState().transact()\n",
    "tx_hash"
   ]
  },
  {
   "cell_type": "code",
   "execution_count": 21,
   "id": "f60464c8-84a5-4635-bc2e-606bb66668b2",
   "metadata": {},
   "outputs": [
    {
     "data": {
      "text/plain": [
       "AttributeDict({'blockHash': HexBytes('0xbee4261886940025c6fbe92cea83cc33d1857cefb83552461d6a151054241b96'),\n",
       " 'blockNumber': 257,\n",
       " 'contractAddress': None,\n",
       " 'cumulativeGasUsed': 237858,\n",
       " 'effectiveGasPrice': 1,\n",
       " 'from': '0x546F99F244b7B58B855330AE0E2BC1b30b41302F',\n",
       " 'gasUsed': 237858,\n",
       " 'logs': [AttributeDict({'address': '0x257501CBfA198a22B71637526a446059E57D93dD',\n",
       "   'topics': [HexBytes('0x9c6f8368fe7e77e8cb9438744581403bcb3f53298e517f04c1b8475487402e97')],\n",
       "   'data': '0x0000000000000000000000000000000000000000000000000000000000000101000000000000000000000000000000000000000000000000000000000000010800000000000000000000000000000000000000000000000000000000000001150000000000000000000000000000000000000000000000000000000000000122000000000000000000000000000000000000000000000000000000000000012f000000000000000000000000000000000000000000000000000000000000013c000000000000000000000000000000000000000000000000000000000000014900000000000000000000000000000000000000000000000000000000000001560000000000000000000000000000000000000000000000000000000000000163',\n",
       "   'blockNumber': 257,\n",
       "   'transactionHash': HexBytes('0xdc49f5d30ac3a58d6a4c7ef8d2111832d45171501d6eb30c191afda962a9bef4'),\n",
       "   'transactionIndex': 0,\n",
       "   'blockHash': HexBytes('0xbee4261886940025c6fbe92cea83cc33d1857cefb83552461d6a151054241b96'),\n",
       "   'logIndex': 0,\n",
       "   'removed': False})],\n",
       " 'logsBloom': HexBytes('0x00000000000000000400000000000000000000000000080000000000000000000000000000000000000000000000000000000000000000000000400000000000000000000000000000000000000000000000000000000000000000000000000000000000000000000000000000000000000000000000000000000000000000000000000000000000000000000000000000000000000000000000008000000000000000000000000000000000000000000000000000000000000000000000000000000000000000000000000000000000000000000000000000000000000000000000000000000000000000000000000000000000000000040800000000000000'),\n",
       " 'status': 1,\n",
       " 'to': '0x257501CBfA198a22B71637526a446059E57D93dD',\n",
       " 'transactionHash': HexBytes('0xdc49f5d30ac3a58d6a4c7ef8d2111832d45171501d6eb30c191afda962a9bef4'),\n",
       " 'transactionIndex': 0,\n",
       " 'type': '0x0'})"
      ]
     },
     "execution_count": 21,
     "metadata": {},
     "output_type": "execute_result"
    }
   ],
   "source": [
    "tx_receipt = w3.eth.wait_for_transaction_receipt(tx_hash)\n",
    "tx_receipt"
   ]
  },
  {
   "cell_type": "code",
   "execution_count": null,
   "id": "4e5d355e-0f72-4255-9cad-d4c34c0718a2",
   "metadata": {},
   "outputs": [],
   "source": []
  },
  {
   "cell_type": "code",
   "execution_count": 62,
   "id": "777f207b-2dbb-414e-a671-14e4877ed6f3",
   "metadata": {},
   "outputs": [
    {
     "data": {
      "text/plain": [
       "25"
      ]
     },
     "execution_count": 62,
     "metadata": {},
     "output_type": "execute_result"
    }
   ],
   "source": [
    "x = contract.functions.getEthDKGMadHeight().call()\n",
    "x"
   ]
  },
  {
   "cell_type": "code",
   "execution_count": null,
   "id": "8de922f6-5fe7-4ecc-812e-1ef57596e508",
   "metadata": {},
   "outputs": [],
   "source": []
  },
  {
   "cell_type": "code",
   "execution_count": null,
   "id": "29425d2f-8979-4757-8952-f03c4c0b1f48",
   "metadata": {},
   "outputs": [],
   "source": [
    "# EthDKGInitializeFacet = w3.eth.contract(abi=abi, bytecode=bytecode)"
   ]
  },
  {
   "cell_type": "code",
   "execution_count": null,
   "id": "aae7bd6c-d7fa-4c19-ace7-1d874b5b1454",
   "metadata": {},
   "outputs": [],
   "source": []
  },
  {
   "cell_type": "code",
   "execution_count": null,
   "id": "5ebb06c0-8093-4582-87b1-f0ed464ad364",
   "metadata": {},
   "outputs": [],
   "source": []
  },
  {
   "cell_type": "code",
   "execution_count": null,
   "id": "cd96bb47-7aa9-4755-8fa3-14bbb4c8aadb",
   "metadata": {},
   "outputs": [],
   "source": []
  },
  {
   "cell_type": "code",
   "execution_count": null,
   "id": "392b3641-6f90-4c84-aff1-7d8eaf1700e2",
   "metadata": {},
   "outputs": [],
   "source": []
  },
  {
   "cell_type": "code",
   "execution_count": null,
   "id": "08af9797-ae2d-4b9c-9437-01f6f47c9fe5",
   "metadata": {},
   "outputs": [],
   "source": []
  },
  {
   "cell_type": "code",
   "execution_count": null,
   "id": "473e9b2c-4753-4ce3-9bc8-a526eb96c41b",
   "metadata": {},
   "outputs": [],
   "source": []
  },
  {
   "cell_type": "code",
   "execution_count": null,
   "id": "7b94cbd7-08e7-4ac9-86c6-7f727b286870",
   "metadata": {},
   "outputs": [],
   "source": []
  },
  {
   "cell_type": "code",
   "execution_count": null,
   "id": "41ada88c-a17c-425f-b310-95cbf6f32321",
   "metadata": {},
   "outputs": [],
   "source": []
  },
  {
   "cell_type": "code",
   "execution_count": null,
   "id": "1b46c5aa-5743-49ac-ab7c-20b2c104a459",
   "metadata": {},
   "outputs": [],
   "source": []
  },
  {
   "cell_type": "code",
   "execution_count": null,
   "id": "4f80da69-a17a-4bae-8815-cf7d8dcd6df2",
   "metadata": {},
   "outputs": [],
   "source": []
  },
  {
   "cell_type": "code",
   "execution_count": null,
   "id": "e9f74fca-c69e-4f83-838b-7e56f13d1e31",
   "metadata": {},
   "outputs": [],
   "source": []
  },
  {
   "cell_type": "code",
   "execution_count": null,
   "id": "e60ce625-e6fa-40b0-87b8-3194b0797d60",
   "metadata": {},
   "outputs": [],
   "source": []
  }
 ],
 "metadata": {
  "kernelspec": {
   "display_name": "Python 3 (ipykernel)",
   "language": "python",
   "name": "python3"
  },
  "language_info": {
   "codemirror_mode": {
    "name": "ipython",
    "version": 3
   },
   "file_extension": ".py",
   "mimetype": "text/x-python",
   "name": "python",
   "nbconvert_exporter": "python",
   "pygments_lexer": "ipython3",
   "version": "3.8.7"
  }
 },
 "nbformat": 4,
 "nbformat_minor": 5
}
